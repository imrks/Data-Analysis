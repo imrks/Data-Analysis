{
  "cells": [
    {
      "metadata": {
        "_uuid": "7ee08f508923d74cbf89433c55d9148f47b9739a"
      },
      "cell_type": "markdown",
      "source": "# TEMPERATURE DATA SET FOR 1901-2016"
    },
    {
      "metadata": {
        "trusted": false,
        "collapsed": true,
        "_uuid": "aaea879542858c7dba9dfece3156d7ecaffa58c3"
      },
      "cell_type": "code",
      "source": "import numpy as np\nimport pandas as pd\nimport matplotlib.pyplot as plt\nimport seaborn as sb\ndf = pd.read_csv(\"../input/indian_temp.csv\")\nprint(df)",
      "execution_count": null,
      "outputs": []
    },
    {
      "metadata": {
        "_uuid": "f1c8f32f68a49115d86cbd318b6ec69519eb5e13"
      },
      "cell_type": "markdown",
      "source": "# Slice of 2001-2016 Temperature Data Set"
    },
    {
      "metadata": {
        "trusted": false,
        "collapsed": true,
        "_uuid": "3af609da2150108bf685358dab9e59893d04cd86"
      },
      "cell_type": "code",
      "source": "df1 = pd.read_excel(\"../input/indian_temp.xlsx\")\ndf1\ndf2 = df1.iloc[-16:,0:13]\ndf2",
      "execution_count": null,
      "outputs": []
    },
    {
      "metadata": {
        "trusted": false,
        "collapsed": true,
        "_uuid": "07f02683d3735d23b1a777ec0dcea91c8ce79282"
      },
      "cell_type": "code",
      "source": "df2.shape",
      "execution_count": null,
      "outputs": []
    },
    {
      "metadata": {
        "_uuid": "22966f9a25cc183b32f1cf38b0ca5b8a4a301a5b"
      },
      "cell_type": "markdown",
      "source": "# Details of the Dataframe 2001-2016"
    },
    {
      "metadata": {
        "trusted": false,
        "collapsed": true,
        "_uuid": "7b91c689ff3f77f8a85939287a68f8c9487fab94"
      },
      "cell_type": "code",
      "source": "df2.describe()",
      "execution_count": null,
      "outputs": []
    },
    {
      "metadata": {
        "_uuid": "2f28f92bd14c4d76bed4b983288d1304a0b6b413"
      },
      "cell_type": "markdown",
      "source": "# Table Of Monthly Temperatures for 20 years"
    },
    {
      "metadata": {
        "_uuid": "66d603e9417bea79fd06ad6e6e3b13817cd99154"
      },
      "cell_type": "markdown",
      "source": "## JAN"
    },
    {
      "metadata": {
        "trusted": false,
        "collapsed": true,
        "_uuid": "a3c9eb8ee4dc37a5f5d8c704e5eb3fd9a323a1f3"
      },
      "cell_type": "code",
      "source": "plt.figure(figsize=(20,8))\nsb.barplot(x='YEAR',y='JAN',data=df2)",
      "execution_count": null,
      "outputs": []
    },
    {
      "metadata": {
        "_uuid": "1f4b0f0783cb8d17b4bc9f74dd0f9944c8e3d7c0"
      },
      "cell_type": "markdown",
      "source": "We analyse the data frame to produce desirable plots for the month of JAN for 16 years.Seaborn barplot to represent this data for better visualisation. We conclude that year 2016 has the maximum temperature in this season and year 2012 has the minimum temperature in this season."
    },
    {
      "metadata": {
        "_uuid": "d663e59bbf60a56719e43b887f394db1e29df30a"
      },
      "cell_type": "markdown",
      "source": "## FEB"
    },
    {
      "metadata": {
        "trusted": false,
        "collapsed": true,
        "_uuid": "2b4f8771034ae1e8f0e54c4e4f9c63168669983d"
      },
      "cell_type": "code",
      "source": "plt.figure(figsize=(20,8))\nsb.barplot(x='YEAR',y='FEB',data=df2)",
      "execution_count": null,
      "outputs": []
    },
    {
      "metadata": {
        "_uuid": "dbabc454c48010842e9c2056a4ed01d51e2656ef"
      },
      "cell_type": "markdown",
      "source": "We analyse the data frame to produce desirable plots for the month of FEB for 16 years.Seaborn barplot to represent this data for better visualisation. We conclude that year 2016 has the maximum temperature in this season and year 2008 has the minimum temperature in this season."
    },
    {
      "metadata": {
        "_uuid": "1f4b00b03a7167e83cdf5fbf7a98bb8416a3a5ff"
      },
      "cell_type": "markdown",
      "source": "## MAR"
    },
    {
      "metadata": {
        "trusted": false,
        "collapsed": true,
        "_uuid": "337410fcf68a17850efc538d0b140b99ce697710"
      },
      "cell_type": "code",
      "source": "plt.figure(figsize=(20,8))\nsb.barplot(x='YEAR',y='MAR',data=df2)",
      "execution_count": null,
      "outputs": []
    },
    {
      "metadata": {
        "_uuid": "1376b5dcf38135bc680fb3898b8779f466b0063c"
      },
      "cell_type": "markdown",
      "source": "We analyse the data frame to produce desirable plots for the month of MAR for 16 years.Seaborn barplot to represent this data for better visualisation. We conclude that year 2016 has the maximum temperature in this season and year 2014 has the minimum temperature in this season."
    },
    {
      "metadata": {
        "_uuid": "d0587e88a26e44b04939786b1504f0f98f6e1658"
      },
      "cell_type": "markdown",
      "source": "## APR"
    },
    {
      "metadata": {
        "trusted": false,
        "collapsed": true,
        "_uuid": "ca5fe97d5ffc81b5ce698c6cc50f259aa50d1342"
      },
      "cell_type": "code",
      "source": "plt.figure(figsize=(20,8))\nsb.barplot(x='YEAR',y='APR',data=df2)",
      "execution_count": null,
      "outputs": []
    },
    {
      "metadata": {
        "_uuid": "734033d6e85e33f4157cd07e525a4ac04bee4dcd"
      },
      "cell_type": "markdown",
      "source": "We analyse the data frame to produce desirable plots for the month of APR for 16 years.Seaborn barplot to represent this data for better visualisation. We conclude that year 2016 has the maximum temperature in this season and year 2011 has the minimum temperature in this season."
    },
    {
      "metadata": {
        "_uuid": "7becc8f82b0214a87c8cd3ea22f0c75c0a5a81ed"
      },
      "cell_type": "markdown",
      "source": "## MAY"
    },
    {
      "metadata": {
        "trusted": false,
        "collapsed": true,
        "_uuid": "24fe1a7039709fbf001ea9999e08426e3a29c038"
      },
      "cell_type": "code",
      "source": "plt.figure(figsize=(20,8))\nsb.barplot(x='YEAR',y='MAY',data=df2)",
      "execution_count": null,
      "outputs": []
    },
    {
      "metadata": {
        "_uuid": "a4abc7b871b77b33f08b03413f9cf07830fa56c8"
      },
      "cell_type": "markdown",
      "source": "We analyse the data frame to produce desirable plots for the month of MAY for 16 years.Seaborn barplot to represent this data for better visualisation. We conclude that year 2016 has the maximum temperature in this season and year 2004 has the minimum temperature in this season."
    },
    {
      "metadata": {
        "_uuid": "8e6af7375e4c7b9b3cb0a67c0938da2a3abc9530"
      },
      "cell_type": "markdown",
      "source": "## JUN"
    },
    {
      "metadata": {
        "trusted": false,
        "collapsed": true,
        "_uuid": "da9bf3e62460751464feb2726817f69233d12f5f"
      },
      "cell_type": "code",
      "source": "plt.figure(figsize=(20,8))\nsb.barplot(x='YEAR',y='JUN',data=df2)",
      "execution_count": null,
      "outputs": []
    },
    {
      "metadata": {
        "_uuid": "3a5597183753c15a27cf692bbe2e5c580baeaa14"
      },
      "cell_type": "markdown",
      "source": "We analyse the data frame to produce desirable plots for the month of JUN for 16 years.Seaborn barplot to represent this data for better visualisation. We conclude that year 2016 has the maximum temperature in this season and year 2004 has the minimum temperature in this season."
    },
    {
      "metadata": {
        "_uuid": "4a72fb323d00789ae220f098910086a110eb9f3a"
      },
      "cell_type": "markdown",
      "source": "## JUL"
    },
    {
      "metadata": {
        "trusted": false,
        "collapsed": true,
        "_uuid": "8dce9c59101de6a7bfc89a6bf94ed7f7de49e77d"
      },
      "cell_type": "code",
      "source": "plt.figure(figsize=(20,8))\nsb.barplot(x='YEAR',y='JUL',data=df2)",
      "execution_count": null,
      "outputs": []
    },
    {
      "metadata": {
        "_uuid": "d4aa746196176aa76d9e0c34ffd2ec682df6a760"
      },
      "cell_type": "markdown",
      "source": "We analyse the data frame to produce desirable plots for the month of JUL for 16 years.Seaborn barplot to represent this data for better visualisation. We conclude that year 2002 has the maximum temperature in this season and year 2005 has the minimum temperature in this season."
    },
    {
      "metadata": {
        "_uuid": "744cb397ab342307c342eaaa014835fbd2681589"
      },
      "cell_type": "markdown",
      "source": "## AUG"
    },
    {
      "metadata": {
        "trusted": false,
        "collapsed": true,
        "_uuid": "521c701313c5b0fdbf2ce4b71758e8d3ef79a5f2"
      },
      "cell_type": "code",
      "source": "plt.figure(figsize=(20,8))\nsb.barplot(x='YEAR',y='AUG',data=df2)",
      "execution_count": null,
      "outputs": []
    },
    {
      "metadata": {
        "_uuid": "6a0eb1537cade620203b8ce65e5ddf9ed7939e28"
      },
      "cell_type": "markdown",
      "source": "We analyse the data frame to produce desirable plots for the month of AUG for 16 years.Seaborn barplot to represent this data for better visualisation. We conclude that year 2016 has the maximum temperature in this season and year 2008 has the minimum temperature in this season."
    },
    {
      "metadata": {
        "_uuid": "483d3b2e70da7fb62d2354291b06c1b8fef12e3b"
      },
      "cell_type": "markdown",
      "source": "## SEP"
    },
    {
      "metadata": {
        "trusted": false,
        "collapsed": true,
        "_uuid": "52cedb9f7fbb87e32a6daf5c76c74db632bfa7d1"
      },
      "cell_type": "code",
      "source": "plt.figure(figsize=(20,8))\nsb.barplot(x='YEAR',y='SEP',data=df2)",
      "execution_count": null,
      "outputs": []
    },
    {
      "metadata": {
        "_uuid": "fa0fbf556e0ac1c5a8adae0a063ec524419dcbc6"
      },
      "cell_type": "markdown",
      "source": "We analyse the data frame to produce desirable plots for the month of SEP for 16 years.Seaborn barplot to represent this data for better visualisation. We conclude that year 2016 has the maximum temperature in this season and year 2006 has the minimum temperature in this season."
    },
    {
      "metadata": {
        "_uuid": "f8e98f5edd61be72dd0968089c2808760aa34548"
      },
      "cell_type": "markdown",
      "source": "## OCT"
    },
    {
      "metadata": {
        "trusted": false,
        "collapsed": true,
        "_uuid": "4ce04cd73591713eba5af66749a41c5711282201"
      },
      "cell_type": "code",
      "source": "plt.figure(figsize=(20,8))\nsb.barplot(x='YEAR',y='OCT',data=df2)",
      "execution_count": null,
      "outputs": []
    },
    {
      "metadata": {
        "_uuid": "3dc8a90ee54bfa379b5856bae9ca310bbdcbbaa7"
      },
      "cell_type": "markdown",
      "source": "We analyse the data frame to produce desirable plots for the month of OCT for 16 years.Seaborn barplot to represent this data for better visualisation. We conclude that year 2016 has the maximum temperature in this season and year 2004 has the minimum temperature in this season."
    },
    {
      "metadata": {
        "_uuid": "c8b97046ae79a43479f418c36022f70b69a675a5"
      },
      "cell_type": "markdown",
      "source": "## NOV"
    },
    {
      "metadata": {
        "trusted": false,
        "collapsed": true,
        "_uuid": "161d7d97d8ceb639c9625b9dfeb47f27dcb6ec2e"
      },
      "cell_type": "code",
      "source": "plt.figure(figsize=(20,8))\nsb.barplot(x='YEAR',y='NOV',data=df2)",
      "execution_count": null,
      "outputs": []
    },
    {
      "metadata": {
        "_uuid": "47850aa457422c561755cdcd3ad8a801c8aa4e3a"
      },
      "cell_type": "markdown",
      "source": "We analyse the data frame to produce desirable plots for the month of NOV for 16 years.Seaborn barplot to represent this data for better visualisation. We conclude that year 2016 has the maximum temperature in this season and year 2005 has the minimum temperature in this season."
    },
    {
      "metadata": {
        "_uuid": "fec0851e3b83578d720b63341416685e517f537a"
      },
      "cell_type": "markdown",
      "source": "## DEC"
    },
    {
      "metadata": {
        "trusted": false,
        "collapsed": true,
        "_uuid": "e9d53117a419f37bedf7778dd34e41c411de7d07"
      },
      "cell_type": "code",
      "source": "plt.figure(figsize=(20,8))\nsb.barplot(x='YEAR',y='DEC',data=df2)",
      "execution_count": null,
      "outputs": []
    },
    {
      "metadata": {
        "_uuid": "a84d38faac14ad7a17b0bf7cc2b4048dc20d4124"
      },
      "cell_type": "markdown",
      "source": "We analyse the data frame to produce desirable plots for the month of DEC for 16 years.Seaborn barplot to represent this data for better visualisation. We conclude that year 2016 has the maximum temperature in this season and year 2010 has the minimum temperature in this season."
    },
    {
      "metadata": {
        "_uuid": "cf4973aee04658112812c81cf71086f00e341bc2"
      },
      "cell_type": "markdown",
      "source": "### We analyse that year 2016 has the maximum temperature for all the months."
    },
    {
      "metadata": {
        "_uuid": "3b9c9fd31fb4c70bd535ea5eb8225843a05c8292"
      },
      "cell_type": "markdown",
      "source": "# Table Of Seasonal Temperatures for 20 years "
    },
    {
      "metadata": {
        "trusted": false,
        "collapsed": true,
        "_uuid": "f5c3d30613aa7bee4c52d120b3d91d1498581d1a"
      },
      "cell_type": "code",
      "source": "df3 = df1[['YEAR','JAN-FEB','MAR-MAY','JUN-SEP','OCT-DEC']]\ndf3 = df3.iloc[-16:,]\ndf3",
      "execution_count": null,
      "outputs": []
    },
    {
      "metadata": {
        "_uuid": "5d1e098f8bf19e6e54257ffb273f59091572e69c"
      },
      "cell_type": "markdown",
      "source": "We split the data set into set of 16 years and stored this into a new dataframe. Now we analyse this new data frame to produce desirable plots."
    },
    {
      "metadata": {
        "_uuid": "dc48b548f4cc32b0241ed56dde6c3b39e7ba7da1"
      },
      "cell_type": "markdown",
      "source": "## JAN-FEB"
    },
    {
      "metadata": {
        "trusted": false,
        "collapsed": true,
        "_uuid": "1bd5645aaa9467bba2fa4141e7ed65ee40cf1539"
      },
      "cell_type": "code",
      "source": "plt.figure(figsize=(20,8))\nsb.barplot(x='YEAR',y='JAN-FEB',data=df3)",
      "execution_count": null,
      "outputs": []
    },
    {
      "metadata": {
        "_uuid": "7b0b028012e437333f5992fbbc19d32abe81bcf2"
      },
      "cell_type": "markdown",
      "source": "We analyse the data frame to produce desirable plots for season JAN-FEB for 16 years.Seaborn barplot to represent this data for better visualisation. We conclude that year 2016 has the maximum temperature in this season and year 2008 has the minimum temperature in this season."
    },
    {
      "metadata": {
        "_uuid": "3574a98c4e89b5446539849c74ec016a9dfcd215"
      },
      "cell_type": "markdown",
      "source": "## MAR-MAY"
    },
    {
      "metadata": {
        "trusted": false,
        "collapsed": true,
        "_uuid": "8cfb3bf8cb8741e6c57d479494974b48bb7d8daa"
      },
      "cell_type": "code",
      "source": "plt.figure(figsize=(20,8))\nsb.barplot(x='YEAR',y='MAR-MAY',data=df3)",
      "execution_count": null,
      "outputs": []
    },
    {
      "metadata": {
        "_uuid": "d5749f84df42c384b5b9388405272698661d9d00"
      },
      "cell_type": "markdown",
      "source": "We analyse the data frame to produce desirable plots for season MAR-MAY for 16 years.Seaborn barplot to represent this data for better visualisation. We conclude that year 2016 has the maximum temperature in this season and year 2014 has the minimum temperature in this season."
    },
    {
      "metadata": {
        "_uuid": "dfe4f9fb100beeaff4837504573171cdc0efe8c6"
      },
      "cell_type": "markdown",
      "source": "## JUN-SEP"
    },
    {
      "metadata": {
        "trusted": false,
        "collapsed": true,
        "_uuid": "21446f0e33f2f0ef95dd35edeeb0dcfb14f5a1a2"
      },
      "cell_type": "code",
      "source": "plt.figure(figsize=(20,8))\nsb.barplot(x='YEAR',y='JUN-SEP',data=df3)",
      "execution_count": null,
      "outputs": []
    },
    {
      "metadata": {
        "_uuid": "e54d012796806ac82127834ac393d66d883b9591"
      },
      "cell_type": "markdown",
      "source": "We analyse the data frame to produce desirable plots for season JUN-SEP for 16 years.Seaborn barplot to represent this data for better visualisation. We conclude that year 2016 has the maximum temperature in this season and year 2008 has the minimum temperature in this season."
    },
    {
      "metadata": {
        "_uuid": "c65542f107c90f163dc156d2bc88c5a1b98c3c7a"
      },
      "cell_type": "markdown",
      "source": "## OCT-DEC"
    },
    {
      "metadata": {
        "trusted": false,
        "collapsed": true,
        "_uuid": "a889650157f25456a44b3cf696d950a76ba9dde1"
      },
      "cell_type": "code",
      "source": "plt.figure(figsize=(20,8))\nsb.barplot(x='YEAR',y='OCT-DEC',data=df3)",
      "execution_count": null,
      "outputs": []
    },
    {
      "metadata": {
        "_uuid": "2f9e64425026cb68a4877e438be6d13a233cd90b"
      },
      "cell_type": "markdown",
      "source": "We analyse the data frame to produce desirable plots for season OCT-DEC for 16 years.Seaborn barplot to represent this data for better visualisation. We conclude that year 2016 has the maximum temperature in this season and year 2003 has the minimum temperature in this season."
    },
    {
      "metadata": {
        "_uuid": "382b541fa256011b50775fedc7ff17c043c5b792"
      },
      "cell_type": "markdown",
      "source": "# Correlation between Temperatures"
    },
    {
      "metadata": {
        "trusted": false,
        "collapsed": true,
        "_uuid": "38771176af50584623e0ad3bd3d96df535d07bde"
      },
      "cell_type": "code",
      "source": "df1.corr()",
      "execution_count": null,
      "outputs": []
    },
    {
      "metadata": {
        "trusted": false,
        "collapsed": true,
        "_uuid": "d4576ee8fe5742f76f9f55e231f1558fa32ebe15"
      },
      "cell_type": "code",
      "source": "df4 = df1[['JAN','FEB','MAR','APR','MAY','JUN','JUL','AUG','SEP','OCT','NOV','DEC','ANNUAL']]\ndf4",
      "execution_count": null,
      "outputs": []
    },
    {
      "metadata": {
        "_uuid": "f91c50127d525d632536396831a795a22e7a254d"
      },
      "cell_type": "markdown",
      "source": "# Slice of 1901-1920 temperature data set"
    },
    {
      "metadata": {
        "trusted": false,
        "collapsed": true,
        "_uuid": "c5b79184d37fe09a18c62379187e5353e717e149"
      },
      "cell_type": "code",
      "source": "df4 = df4.tail(16)\ndf4",
      "execution_count": null,
      "outputs": []
    },
    {
      "metadata": {
        "_uuid": "106da35a789a6f24ebcedbdda9ee2fca4e9b1592"
      },
      "cell_type": "markdown",
      "source": "# Correlation matrix for JAN-DEC and annual"
    },
    {
      "metadata": {
        "trusted": false,
        "collapsed": true,
        "_uuid": "d38807136f22d212304b4adf54ef935b72550444"
      },
      "cell_type": "code",
      "source": "df5=df4.corr()\ndf5",
      "execution_count": null,
      "outputs": []
    },
    {
      "metadata": {
        "_uuid": "e662f3b58d5c0db15c3a465d57677f2874e08bea"
      },
      "cell_type": "markdown",
      "source": "# Heatmap for correlation matrix"
    },
    {
      "metadata": {
        "trusted": false,
        "collapsed": true,
        "_uuid": "547ec846e656da25ce107f8399cb678023a3aced"
      },
      "cell_type": "code",
      "source": "plt.figure(figsize=(10,8))\nsb.heatmap(df5,annot=True)",
      "execution_count": null,
      "outputs": []
    },
    {
      "metadata": {
        "_uuid": "e780e13869bbd60270c437bcc9e5d046f1ddf16c"
      },
      "cell_type": "markdown",
      "source": "We determine the correlation between the temperatures of different months in a year and we find that AUG-SEP & JAN-FEB has the maximum correlation with value is equals to 0.88 and MAR-JUL has minimum correlation with value is equals to -0.076."
    }
  ],
  "metadata": {
    "kernelspec": {
      "display_name": "Python 3",
      "language": "python",
      "name": "python3"
    },
    "language_info": {
      "name": "python",
      "version": "3.6.6",
      "mimetype": "text/x-python",
      "codemirror_mode": {
        "name": "ipython",
        "version": 3
      },
      "pygments_lexer": "ipython3",
      "nbconvert_exporter": "python",
      "file_extension": ".py"
    }
  },
  "nbformat": 4,
  "nbformat_minor": 1
}